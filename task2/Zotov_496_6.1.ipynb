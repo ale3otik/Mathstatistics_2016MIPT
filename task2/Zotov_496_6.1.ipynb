{
 "cells": [
  {
   "cell_type": "markdown",
   "metadata": {},
   "source": [
    "$\\xi \\sim Pois(\\lambda) \\implies E\\xi = \\lambda$\n",
    "\n",
    "$N_t - N_s \\sim Pois(\\lambda(t-s))$ и $(N_t - N_s) \\bot N_s $ \n",
    "\n",
    "$E(N_t|N_s) = E(N_t - N_s|N_s) + E(N_s|N_s) = E(N_t - N_s) + N_s = \\lambda(t-s) + N_s$\n",
    "\n",
    "$t_0 = 1, t = 60$."
   ]
  },
  {
   "cell_type": "code",
   "execution_count": 49,
   "metadata": {
    "collapsed": false
   },
   "outputs": [],
   "source": [
    "file_name = '496 Зотов Алексей.txt'\n",
    "file = open(file_name , 'r')\n",
    "data = list(map(float, file.readlines()))\n",
    "file.close()\n",
    "t = 60\n",
    "lb = data[0]\n",
    "failed_time = data[1:]"
   ]
  },
  {
   "cell_type": "code",
   "execution_count": 51,
   "metadata": {
    "collapsed": false
   },
   "outputs": [
    {
     "name": "stdout",
     "output_type": "stream",
     "text": [
      "t||E(N_t|N_s)\n",
      "__________\n",
      "0||20.100\n",
      "1||21.765\n",
      "2||21.430\n",
      "3||22.095\n",
      "4||21.760\n",
      "5||21.425\n",
      "6||22.090\n",
      "7||22.755\n",
      "8||22.420\n",
      "9||22.085\n",
      "10||22.750\n",
      "11||22.415\n",
      "12||23.080\n",
      "13||22.745\n",
      "14||22.410\n",
      "15||22.075\n",
      "16||21.740\n",
      "17||22.405\n",
      "18||23.070\n",
      "19||23.735\n",
      "20||23.400\n",
      "21||23.065\n",
      "22||22.730\n",
      "23||23.395\n",
      "24||24.060\n",
      "25||23.725\n",
      "26||23.390\n",
      "27||23.055\n",
      "28||22.720\n",
      "29||23.385\n",
      "30||23.050\n",
      "31||22.715\n",
      "32||22.380\n",
      "33||22.045\n",
      "34||21.710\n",
      "35||21.375\n",
      "36||21.040\n",
      "37||21.705\n",
      "38||22.370\n",
      "39||23.035\n",
      "40||22.700\n",
      "41||22.365\n",
      "42||22.030\n",
      "43||21.695\n",
      "44||23.360\n",
      "45||23.025\n",
      "46||22.690\n",
      "47||23.355\n",
      "48||23.020\n",
      "49||22.685\n",
      "50||22.350\n",
      "51||23.015\n",
      "52||23.680\n",
      "53||24.345\n",
      "54||26.010\n",
      "55||25.675\n",
      "56||27.340\n",
      "57||27.005\n",
      "58||26.670\n",
      "59||26.335\n",
      "60||27.000\n"
     ]
    }
   ],
   "source": [
    "NS = [len([0 for time in failed_time if time <= s]) for s in range(t+1)]\n",
    "print(\"t||E(N_t|N_s)\")\n",
    "print(\"__________\")\n",
    "for s in range(t + 1) :\n",
    "    exp = lb*(t - s) + NS[s]\n",
    "    print(\"%d||%.3f\" % (s , exp))"
   ]
  }
 ],
 "metadata": {
  "kernelspec": {
   "display_name": "Python 3",
   "language": "python",
   "name": "python3"
  },
  "language_info": {
   "codemirror_mode": {
    "name": "ipython",
    "version": 3
   },
   "file_extension": ".py",
   "mimetype": "text/x-python",
   "name": "python",
   "nbconvert_exporter": "python",
   "pygments_lexer": "ipython3",
   "version": "3.5.1"
  }
 },
 "nbformat": 4,
 "nbformat_minor": 0
}
