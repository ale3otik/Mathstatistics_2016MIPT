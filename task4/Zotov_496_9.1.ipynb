{
 "cells": [
  {
   "cell_type": "code",
   "execution_count": 187,
   "metadata": {
    "collapsed": true
   },
   "outputs": [],
   "source": [
    "import numpy as np\n",
    "import matplotlib.pyplot as plt\n",
    "import scipy.stats as sps\n",
    "import math\n",
    "import random\n",
    "%matplotlib inline"
   ]
  },
  {
   "cell_type": "code",
   "execution_count": 188,
   "metadata": {
    "collapsed": false
   },
   "outputs": [
    {
     "name": "stdout",
     "output_type": "stream",
     "text": [
      "N2/N1 : 0.428\n",
      "3/7   : 0.429\n"
     ]
    }
   ],
   "source": [
    "#read data\n",
    "file_name = 'forestfire.txt'\n",
    "file = open(file_name , 'r')\n",
    "lines = file.readlines()\n",
    "data = []\n",
    "\n",
    "for l in lines:\n",
    "    data.append(l.split(','))\n",
    "    \n",
    "random.shuffle(data)\n",
    "#extract required data\n",
    "for y in range(len(data)):\n",
    "    data[y][3] = 1 #ignore day\n",
    "    if data[y][2] in {'jul','jun','aug'} : # summer months\n",
    "        data[y][2] = 1\n",
    "    else :\n",
    "        data[y][2] = 0\n",
    "    data[y] = [float(row) for row in data[y]]\n",
    "N = len(X)\n",
    "N1 = (len(X)*7)//10 + 1\n",
    "N2 = N - N1\n",
    "print('N2/N1 : ' + str(round(N2/N1,3)))\n",
    "print('3/7   : ' + str(round( 3/7,3)))"
   ]
  },
  {
   "cell_type": "code",
   "execution_count": 189,
   "metadata": {
    "collapsed": false
   },
   "outputs": [
    {
     "name": "stdout",
     "output_type": "stream",
     "text": [
      "1090.84\n",
      "12.8472920696\n"
     ]
    }
   ],
   "source": [
    "#информация для оценивания качества модели\n",
    "max_area = np.max(data,axis=0)[-1]\n",
    "mid_area = np.mean(data,axis=0)[-1]\n",
    "print(max_area)\n",
    "print(mid_area)"
   ]
  },
  {
   "cell_type": "code",
   "execution_count": 190,
   "metadata": {
    "collapsed": true
   },
   "outputs": [],
   "source": [
    "def MQ_evaluation(Z,X) :\n",
    "    return (Z.T * Z).I * Z.T * X"
   ]
  },
  {
   "cell_type": "code",
   "execution_count": 191,
   "metadata": {
    "collapsed": false
   },
   "outputs": [],
   "source": [
    "def get_evaluation(sample,f) :\n",
    "        Z = np.matrix([line[:-1] for line in sample])\n",
    "        X = np.matrix([f(line[-1]) for line in sample]).T\n",
    "        return MQ_evaluation(Z,X)"
   ]
  },
  {
   "cell_type": "code",
   "execution_count": 192,
   "metadata": {
    "collapsed": true
   },
   "outputs": [],
   "source": [
    "def get_prediction(data,evl) :\n",
    "    test_data = np.matrix([line[:-1] for line in data])\n",
    "    predict = np.array(test_data * evl)\n",
    "    return predict"
   ]
  },
  {
   "cell_type": "code",
   "execution_count": 193,
   "metadata": {
    "collapsed": false
   },
   "outputs": [],
   "source": [
    "def test_evaluation(data , f , f_inv) :\n",
    "    learn_sample = data[:N1+1]\n",
    "    test_sample = data[N1+1:]\n",
    "    \n",
    "    evl = get_evaluation(learn_sample, f)\n",
    "\n",
    "    prediction = get_prediction(test_sample, evl)\n",
    "    prediction_inv = f_inv(prediction)\n",
    "    \n",
    "    expected = [f(line[-1]) for line in test_sample]\n",
    "    expected_inv = [(line[-1]) for line in test_sample]\n",
    "    \n",
    "    return (np.std(expected - prediction) , np.std(expected_inv - prediction_inv))"
   ]
  },
  {
   "cell_type": "code",
   "execution_count": 194,
   "metadata": {
    "collapsed": false
   },
   "outputs": [
    {
     "name": "stdout",
     "output_type": "stream",
     "text": [
      "standart deviation = 32.4379\n"
     ]
    }
   ],
   "source": [
    "std , std_inv = test_evaluation(data, (lambda x: x), (lambda x: x))\n",
    "print(\"standart deviation = \" + str(round(std,4)))"
   ]
  },
  {
   "cell_type": "markdown",
   "metadata": {},
   "source": [
    "$ \\overline{X} < s \\ll X_{(n)}$\n",
    "\n",
    "Получили достаточно большое отклонение, в несколько раз превосходящее среднее значение. С другой стороны оно сильно меньше максимального значения."
   ]
  },
  {
   "cell_type": "code",
   "execution_count": 195,
   "metadata": {
    "collapsed": false
   },
   "outputs": [],
   "source": [
    "OC = np.arange(0.5 , 1000 , 0.5)\n",
    "std = np.zeros(len(OC))\n",
    "std_inv = np.zeros(len(OC))\n",
    "for i in range(len(OC)):\n",
    "    c = OC[i]\n",
    "    std[i] , std_inv[i] = test_evaluation(data, (lambda x: math.log(x+c)), (lambda x: np.exp(x) - c))"
   ]
  },
  {
   "cell_type": "code",
   "execution_count": 196,
   "metadata": {
    "collapsed": false
   },
   "outputs": [
    {
     "data": {
      "image/png": "[encoded data removed]",
      "text/plain": [
       "<matplotlib.figure.Figure at 0x1123b6898>"
      ]
     },
     "metadata": {},
     "output_type": "display_data"
    }
   ],
   "source": [
    "plt.figure(figsize=(10,8))\n",
    "plt.plot(OC,std)\n",
    "plt.ylim([0,1])\n",
    "plt.title(r'std of ln(x + c) evaluation')\n",
    "plt.xlabel('c')\n",
    "plt.grid(True)\n",
    "plt.show()"
   ]
  },
  {
   "cell_type": "code",
   "execution_count": 197,
   "metadata": {
    "collapsed": false
   },
   "outputs": [
    {
     "data": {
      "image/png": "[encoded data removed]",
      "text/plain": [
       "<matplotlib.figure.Figure at 0x11322b630>"
      ]
     },
     "metadata": {},
     "output_type": "display_data"
    }
   ],
   "source": [
    "plt.figure(figsize=(10,8))\n",
    "plt.plot(OC,std_inv)\n",
    "plt.title(r'std of x evaluation')\n",
    "plt.xlabel('c')\n",
    "plt.grid(True)\n",
    "plt.show()"
   ]
  },
  {
   "cell_type": "markdown",
   "metadata": {},
   "source": [
    "При увеличении $c$ ошибка по $ln(x + c)$ уменьшается, но ошибка оценки результатов в исходном виде увеличивается. \n",
    "\n",
    "Поэтому лучше брать $с$ наименьшим из допустимого."
   ]
  },
  {
   "cell_type": "code",
   "execution_count": 221,
   "metadata": {
    "collapsed": false
   },
   "outputs": [],
   "source": [
    "c = 1e-8\n",
    "n_tests = 1000\n",
    "std = np.zeros(n_tests)\n",
    "std_inv = np.zeros(n_tests)\n",
    "for i in range(n_tests) :\n",
    "    np.random.shuffle(data)\n",
    "    std[i] , std_inv[i] = test_evaluation(data,\n",
    "                                          (lambda x: math.log(x+c)),\n",
    "                                          (lambda x: np.exp(x) - c))\n",
    "\n",
    "max_err = np.max(std_inv)\n",
    "min_err = np.min(std_inv)\n",
    "mean_err = np.mean(std_inv)"
   ]
  },
  {
   "cell_type": "code",
   "execution_count": 222,
   "metadata": {
    "collapsed": false
   },
   "outputs": [
    {
     "name": "stdout",
     "output_type": "stream",
     "text": [
      "max error = 360.109337371\n",
      "min error = 11.7885915244\n",
      "mean error = 55.3087592518\n"
     ]
    }
   ],
   "source": [
    "print('max error = ' + str(max_err))\n",
    "print('min error = ' + str(min_err))\n",
    "print('mean error = ' + str(mean_err))"
   ]
  },
  {
   "cell_type": "markdown",
   "metadata": {},
   "source": [
    "В зависимости от разбиения величина ошибок сильно меняется, максимальная ошибка во много раз превышает среднее значение, поэтому данная модель плохо подходит для точного оценивания."
   ]
  }
 ],
 "metadata": {
  "kernelspec": {
   "display_name": "Python 3",
   "language": "python",
   "name": "python3"
  },
  "language_info": {
   "codemirror_mode": {
    "name": "ipython",
    "version": 3
   },
   "file_extension": ".py",
   "mimetype": "text/x-python",
   "name": "python",
   "nbconvert_exporter": "python",
   "pygments_lexer": "ipython3",
   "version": "3.5.1"
  }
 },
 "nbformat": 4,
 "nbformat_minor": 0
}
