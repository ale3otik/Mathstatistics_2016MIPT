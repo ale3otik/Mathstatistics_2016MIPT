{
 "cells": [
  {
   "cell_type": "code",
   "execution_count": 1,
   "metadata": {
    "collapsed": true
   },
   "outputs": [],
   "source": [
    "import numpy as np\n",
    "import matplotlib.pyplot as plt\n",
    "import scipy.stats as sps\n",
    "import math\n",
    "%matplotlib inline"
   ]
  },
  {
   "cell_type": "code",
   "execution_count": 12,
   "metadata": {
    "collapsed": false
   },
   "outputs": [],
   "source": [
    "file_name = '496 Зотов Алексей-9.2.txt'\n",
    "file = open(file_name , 'r')\n",
    "X = list(map(float, file.readlines()))\n",
    "N = len(X) - 1"
   ]
  },
  {
   "cell_type": "markdown",
   "metadata": {},
   "source": [
    "$X_i = \\beta_1 + i\\beta_2 + \\sum_{i=0}^{n}\\varepsilon_i$\n",
    "\n",
    "Рассмотрим величины $Y_i$ : $Y_0 = X_0 =\\beta_1 + \\varepsilon_0$ , $Y_i = X_i - X_{i-1} = \\beta_2 + \\varepsilon_i$ , $i \\in \\{1, \\dots , n\\}$\n",
    "\n",
    "Тогда $\\mathbf{Y = Z\\overline{\\beta} + \\overline{\\varepsilon}}$ - линейная модель для $Y$ , где \n",
    "- $Z = \\begin{pmatrix}\n",
    "  1 & 0 \\\\\n",
    "  0 & 1 \\\\\n",
    "  \\cdots &\\cdots \\\\\n",
    "  0 & 1\n",
    " \\end{pmatrix}$\n",
    "  \n",
    "- $\\overline{\\beta} = \\left(\\beta_1 , \\beta_2 \\right)^T$ \n",
    "- $\\overline{\\varepsilon} = \\left(\\varepsilon_0 , \\dots, \\varepsilon_n \\right)^T$\n",
    "\n"
   ]
  },
  {
   "cell_type": "code",
   "execution_count": 81,
   "metadata": {
    "collapsed": false
   },
   "outputs": [],
   "source": [
    "def MQ_evaluation(Z,X) :\n",
    "    return (Z.T * Z).I * Z.T * X"
   ]
  },
  {
   "cell_type": "code",
   "execution_count": 82,
   "metadata": {
    "collapsed": false
   },
   "outputs": [],
   "source": [
    "#build Z - matrix\n",
    "Z = [[0,1] for i in range(N+1)]\n",
    "Z[0] = [1,0]\n",
    "Z = np.matrix(Z)"
   ]
  },
  {
   "cell_type": "code",
   "execution_count": 86,
   "metadata": {
    "collapsed": false
   },
   "outputs": [],
   "source": [
    "#build Y- matrix\n",
    "Y = [X[i] - X[i-1] for i in range(N + 1)]\n",
    "Y[0] = X[0]\n",
    "Y = np.matrix(Y).T"
   ]
  },
  {
   "cell_type": "code",
   "execution_count": 108,
   "metadata": {
    "collapsed": false
   },
   "outputs": [
    {
     "name": "stdout",
     "output_type": "stream",
     "text": [
      "b1 = 397.735\n",
      "b2 = 4.513\n"
     ]
    }
   ],
   "source": [
    "Beta = MQ_evaluation(Z,Y)\n",
    "Beta_arr = np.array(Beta)\n",
    "beta_1 , beta_2 = Beta_arr[0][0] , Beta_arr[1][0]\n",
    "print('b1 = ' + str(round(beta_1,3)))\n",
    "print('b2 = ' + str(round(beta_2,3)))"
   ]
  },
  {
   "cell_type": "markdown",
   "metadata": {},
   "source": [
    "Сделаем проверку :\n",
    " - $\\hat{\\overline{\\beta}} = \\left(X_0 , \\frac{X_N - X_0}{N} \\right) ^ T$"
   ]
  },
  {
   "cell_type": "code",
   "execution_count": 118,
   "metadata": {
    "collapsed": false
   },
   "outputs": [
    {
     "name": "stdout",
     "output_type": "stream",
     "text": [
      "b2' = 397.735\n",
      "b2' = 4.513\n"
     ]
    }
   ],
   "source": [
    "print(\"b2' = \" + str(round(X[0],3)))\n",
    "print(\"b2' = \" +  str(round((X[N] - X[0]) / N,3)))"
   ]
  },
  {
   "cell_type": "markdown",
   "metadata": {},
   "source": [
    "Результат совпал"
   ]
  },
  {
   "cell_type": "markdown",
   "metadata": {},
   "source": [
    "Оценим $\\sigma^2$\n",
    "\n",
    " - $\\hat{\\sigma^2} = \\frac{1}{n-1}|\\mathbf{Y - Z\\hat{\\beta}}| = \\frac{1}{n-1}\\sum_{i=1}^{n}(X_i - X_{i-1} - \\frac{X_n - X_0}{n})^2$"
   ]
  },
  {
   "cell_type": "code",
   "execution_count": 119,
   "metadata": {
    "collapsed": false
   },
   "outputs": [
    {
     "name": "stdout",
     "output_type": "stream",
     "text": [
      "sigma2 = 0.27383\n"
     ]
    }
   ],
   "source": [
    "Sigma2 = 1 / (N - 1) * (Y - Z*Beta).T * (Y - Z*Beta)\n",
    "sigma2 = round(np.array(Sigma2)[0][0],5)\n",
    "print('sigma2 = ' + str(sigma2))"
   ]
  },
  {
   "cell_type": "markdown",
   "metadata": {},
   "source": [
    "Оценим $\\sigma^2_t$:\n",
    " - $\\hat{\\sigma^2_t} = \\frac{\\hat{\\sigma^2}}{\\hat{\\beta}_2^2}$"
   ]
  },
  {
   "cell_type": "code",
   "execution_count": 120,
   "metadata": {
    "collapsed": false
   },
   "outputs": [
    {
     "name": "stdout",
     "output_type": "stream",
     "text": [
      "(sigma t)^2 = 0.06067\n"
     ]
    }
   ],
   "source": [
    "sigmT2 = round(sigma2 / beta_2,6)\n",
    "print(\"(sigma t)^2 = \" + str(sigmT2))"
   ]
  },
  {
   "cell_type": "markdown",
   "metadata": {},
   "source": [
    "т.к. $\\sigma^2_t \\ll 1$(в эксперименте замеряется каждая секунда) и $\\sigma^2 \\ll \\beta_2 \\ll \\beta_1$, можно использовать данную линейную модель, для получения достаточно высокой точности оценки."
   ]
  }
 ],
 "metadata": {
  "kernelspec": {
   "display_name": "Python 3",
   "language": "python",
   "name": "python3"
  },
  "language_info": {
   "codemirror_mode": {
    "name": "ipython",
    "version": 3
   },
   "file_extension": ".py",
   "mimetype": "text/x-python",
   "name": "python",
   "nbconvert_exporter": "python",
   "pygments_lexer": "ipython3",
   "version": "3.5.1"
  }
 },
 "nbformat": 4,
 "nbformat_minor": 0
}
