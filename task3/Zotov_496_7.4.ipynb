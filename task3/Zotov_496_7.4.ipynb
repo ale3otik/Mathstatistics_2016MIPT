{
 "cells": [
  {
   "cell_type": "code",
   "execution_count": 1,
   "metadata": {
    "collapsed": true
   },
   "outputs": [],
   "source": [
    "import numpy as np\n",
    "import matplotlib.pyplot as plt\n",
    "import scipy.stats as sps\n",
    "import math\n",
    "%matplotlib inline"
   ]
  },
  {
   "cell_type": "markdown",
   "metadata": {},
   "source": [
    "$\\xi \\sim Pois(\\lambda) \\implies E\\xi = \\lambda$\n",
    "\n",
    "$N_t - N_s \\sim Pois(\\lambda(t-s))$ и $(N_t - N_s) \\bot N_s $ \n",
    "\n",
    "$E(N_t|N_s) = E(N_t - N_s|N_s) + E(N_s|N_s) = E(N_t - N_s) + N_s = \\lambda(t-s) + N_s$\n",
    "\n",
    "$t_0 = 1, t = 60$."
   ]
  },
  {
   "cell_type": "code",
   "execution_count": 10,
   "metadata": {
    "collapsed": true
   },
   "outputs": [],
   "source": [
    "file_name = '7.4_data.txt'\n",
    "file = open(file_name , 'r')\n",
    "data = list(map(float, file.readlines()))\n",
    "file.close()\n",
    "lmb_0 = data[0] # \\lambda_0 = 0.335\n",
    "failed_time = data[1:]\n",
    "t = 60"
   ]
  },
  {
   "cell_type": "markdown",
   "metadata": {},
   "source": [
    "Сопряженное для экспоненциального распределения - гамма распределение $\\Gamma(\\alpha ,\\frac{1}{\\beta})$\n",
    "\n",
    "Выберем $\\alpha = 1$ , считая что $\\lambda$ все же не очень велико\n",
    "\n",
    "$\\beta = 0.5$, чтобы даже в случае большого $\\lambda$ получать хорошую оценку (график плотности достаточно плавный и пологий)"
   ]
  },
  {
   "cell_type": "code",
   "execution_count": 79,
   "metadata": {
    "collapsed": false
   },
   "outputs": [
    {
     "data": {
      "image/png": "[encoded data removed]",
      "text/plain": [
       "<matplotlib.figure.Figure at 0x110a17a20>"
      ]
     },
     "metadata": {},
     "output_type": "display_data"
    }
   ],
   "source": [
    "a_prm = 1\n",
    "b_prm = 0.5\n",
    "OX = np.arange(0,5,0.001)\n",
    "plt.plot(OX,sps.gamma.pdf(OX,a_prm,scale = 1/b_prm))\n",
    "plt.title(r'$\\Gamma(' + str(a_prm) + ' , ' + str(round(1/b_prm,2)) + ')$')\n",
    "plt.show()"
   ]
  },
  {
   "cell_type": "markdown",
   "metadata": {},
   "source": [
    "$ \\xi \\sim \\Gamma(\\alpha,\\frac{1}{\\beta}) , E\\xi = \\frac{\\alpha}{\\beta}$\n",
    "\n",
    "Параметры апостериорного распределения : $\\alpha = \\alpha_0 + n$ , $\\beta = \\beta_0 + \\Sigma x_i$"
   ]
  },
  {
   "cell_type": "code",
   "execution_count": 80,
   "metadata": {
    "collapsed": true
   },
   "outputs": [],
   "source": [
    "def get_gamma_bayes_evl(X = []) :\n",
    "    a1 = a_prm + len(X)\n",
    "    b1 = b_prm + np.sum(X)\n",
    "    return a1 / b1"
   ]
  },
  {
   "cell_type": "code",
   "execution_count": 81,
   "metadata": {
    "collapsed": false
   },
   "outputs": [
    {
     "name": "stdout",
     "output_type": "stream",
     "text": [
      "t||E(N_t|N_s)\n",
      "__________\n",
      "0||120.000\n",
      "1||120.000\n",
      "2||118.000\n",
      "3||63.286\n",
      "4||62.228\n",
      "5||61.170\n",
      "6||38.571\n",
      "7||41.012\n",
      "8||40.332\n",
      "9||39.653\n",
      "10||34.422\n",
      "11||33.854\n",
      "12||32.781\n",
      "13||32.244\n",
      "14||31.707\n",
      "15||31.170\n",
      "16||30.633\n",
      "17||26.689\n",
      "18||28.299\n",
      "19||30.608\n",
      "20||30.105\n",
      "21||29.602\n",
      "22||29.100\n",
      "23||27.837\n",
      "24||29.156\n",
      "25||28.680\n",
      "26||28.203\n",
      "27||27.727\n",
      "28||27.250\n",
      "29||26.428\n",
      "30||25.995\n",
      "31||25.561\n",
      "32||25.128\n",
      "33||24.695\n",
      "34||24.262\n",
      "35||23.829\n",
      "36||23.396\n",
      "37||22.329\n",
      "38||23.318\n",
      "39||24.327\n",
      "40||23.930\n",
      "41||23.534\n",
      "42||23.137\n",
      "43||22.741\n",
      "44||24.310\n",
      "45||23.915\n",
      "46||23.521\n",
      "47||24.096\n",
      "48||23.704\n",
      "49||23.312\n",
      "50||22.920\n",
      "51||23.379\n",
      "52||24.133\n",
      "53||24.837\n",
      "54||26.592\n",
      "55||26.160\n",
      "56||27.754\n",
      "57||27.347\n",
      "58||26.898\n",
      "59||26.449\n",
      "60||27.000\n"
     ]
    }
   ],
   "source": [
    "NS = [len([0 for time in failed_time if time <= s]) for s in range(t+1)]\n",
    "ksi = [failed_time[i+1] - failed_time[i] for i in range(1,len(failed_time)-1)]\n",
    "print(\"t||E(N_t|N_s)\")\n",
    "print(\"__________\")\n",
    "k = 0\n",
    "lmb_evl = []\n",
    "for s in range(t + 1) :\n",
    "    while k < len(failed_time) and failed_time[k] < s:\n",
    "        k = k + 1\n",
    "    lmb = 0\n",
    "    if k > 1 :\n",
    "        lmb = get_gamma_bayes_evl(ksi[0:k-2])\n",
    "    else :\n",
    "        lmb = get_gamma_bayes_evl()\n",
    "    \n",
    "    lmb_evl.append(abs(lmb_0 - lmb))\n",
    "    exp = lmb*(t - s) + NS[s]\n",
    "    print(\"%d||%.3f\" % (s , exp))"
   ]
  },
  {
   "cell_type": "markdown",
   "metadata": {},
   "source": [
    "При достаточно больших $n$ ($n \\geq 20$) становится возможным достаточно точно оценить $\\lambda$,\n",
    "и результат работы программы-предсказателя не сильно отличается от результата, получаемого при известном $\\lambda$."
   ]
  },
  {
   "cell_type": "code",
   "execution_count": 94,
   "metadata": {
    "collapsed": false
   },
   "outputs": [
    {
     "data": {
      "image/png": "[encoded data removed]",
      "text/plain": [
       "<matplotlib.figure.Figure at 0x110b08a58>"
      ]
     },
     "metadata": {},
     "output_type": "display_data"
    }
   ],
   "source": [
    "plt.plot(np.arange(0,61,1), lmb_evl)\n",
    "plt.xlim(0,60)\n",
    "plt.title(r'$|\\lambda_0 - \\lambda|$')\n",
    "plt.show()"
   ]
  }
 ],
 "metadata": {
  "kernelspec": {
   "display_name": "Python 3",
   "language": "python",
   "name": "python3"
  },
  "language_info": {
   "codemirror_mode": {
    "name": "ipython",
    "version": 3
   },
   "file_extension": ".py",
   "mimetype": "text/x-python",
   "name": "python",
   "nbconvert_exporter": "python",
   "pygments_lexer": "ipython3",
   "version": "3.5.1"
  }
 },
 "nbformat": 4,
 "nbformat_minor": 0
}
